{
  "nbformat": 4,
  "nbformat_minor": 0,
  "metadata": {
    "colab": {
      "name": "Soccer Detectron",
      "provenance": [],
      "collapsed_sections": [],
      "toc_visible": true,
      "include_colab_link": true
    },
    "kernelspec": {
      "name": "python3",
      "display_name": "Python 3"
    },
    "accelerator": "GPU"
  },
  "cells": [
    {
      "cell_type": "markdown",
      "metadata": {
        "id": "view-in-github",
        "colab_type": "text"
      },
      "source": [
        "<a href=\"https://colab.research.google.com/github/pounda/soccerdetectron/blob/master/Soccer_Detectron.ipynb\" target=\"_parent\"><img src=\"https://colab.research.google.com/assets/colab-badge.svg\" alt=\"Open In Colab\"/></a>"
      ]
    },
    {
      "cell_type": "markdown",
      "metadata": {
        "id": "QHnVupBBn9eR",
        "colab_type": "text"
      },
      "source": [
        "# Soccer Detectron Tutorial\n",
        "\n",
        "<img src=\"https://dl.fbaipublicfiles.com/detectron2/Detectron2-Logo-Horz.png\" width=\"500\">\n",
        "\n",
        "\n"
      ]
    },
    {
      "cell_type": "markdown",
      "metadata": {
        "id": "vM54r6jlKTII",
        "colab_type": "text"
      },
      "source": [
        "# Install detectron2"
      ]
    },
    {
      "cell_type": "code",
      "metadata": {
        "id": "9_FzH13EjseR",
        "colab_type": "code",
        "outputId": "37cdc79d-4f8c-41aa-dbde-d1d944492fc9",
        "colab": {
          "base_uri": "https://localhost:8080/",
          "height": 853
        }
      },
      "source": [
        "# install dependencies: (use cu101 because colab has CUDA 10.1)\n",
        "!pip install -U torch==1.5 torchvision==0.6 -f https://download.pytorch.org/whl/cu101/torch_stable.html \n",
        "!pip install cython pyyaml==5.1\n",
        "!pip install -U 'git+https://github.com/cocodataset/cocoapi.git#subdirectory=PythonAPI'\n",
        "import torch, torchvision\n",
        "print(torch.__version__, torch.cuda.is_available())\n",
        "!gcc --version\n",
        "# opencv is pre-installed on colab"
      ],
      "execution_count": 1,
      "outputs": [
        {
          "output_type": "stream",
          "text": [
            "Looking in links: https://download.pytorch.org/whl/cu101/torch_stable.html\n",
            "Requirement already up-to-date: torch==1.5 in /usr/local/lib/python3.6/dist-packages (1.5.0+cu101)\n",
            "Requirement already up-to-date: torchvision==0.6 in /usr/local/lib/python3.6/dist-packages (0.6.0+cu101)\n",
            "Requirement already satisfied, skipping upgrade: numpy in /usr/local/lib/python3.6/dist-packages (from torch==1.5) (1.18.4)\n",
            "Requirement already satisfied, skipping upgrade: future in /usr/local/lib/python3.6/dist-packages (from torch==1.5) (0.16.0)\n",
            "Requirement already satisfied, skipping upgrade: pillow>=4.1.1 in /usr/local/lib/python3.6/dist-packages (from torchvision==0.6) (7.0.0)\n",
            "Requirement already satisfied: cython in /usr/local/lib/python3.6/dist-packages (0.29.17)\n",
            "Collecting pyyaml==5.1\n",
            "\u001b[?25l  Downloading https://files.pythonhosted.org/packages/9f/2c/9417b5c774792634834e730932745bc09a7d36754ca00acf1ccd1ac2594d/PyYAML-5.1.tar.gz (274kB)\n",
            "\u001b[K     |████████████████████████████████| 276kB 8.6MB/s \n",
            "\u001b[?25hBuilding wheels for collected packages: pyyaml\n",
            "  Building wheel for pyyaml (setup.py) ... \u001b[?25l\u001b[?25hdone\n",
            "  Created wheel for pyyaml: filename=PyYAML-5.1-cp36-cp36m-linux_x86_64.whl size=44074 sha256=fe832bc766644fb3f50bf6bb4dd591997bca1bd78c5709d3e72cbfb7f53a4914\n",
            "  Stored in directory: /root/.cache/pip/wheels/ad/56/bc/1522f864feb2a358ea6f1a92b4798d69ac783a28e80567a18b\n",
            "Successfully built pyyaml\n",
            "Installing collected packages: pyyaml\n",
            "  Found existing installation: PyYAML 3.13\n",
            "    Uninstalling PyYAML-3.13:\n",
            "      Successfully uninstalled PyYAML-3.13\n",
            "Successfully installed pyyaml-5.1\n",
            "Collecting git+https://github.com/cocodataset/cocoapi.git#subdirectory=PythonAPI\n",
            "  Cloning https://github.com/cocodataset/cocoapi.git to /tmp/pip-req-build-9mkqoxz0\n",
            "  Running command git clone -q https://github.com/cocodataset/cocoapi.git /tmp/pip-req-build-9mkqoxz0\n",
            "Requirement already satisfied, skipping upgrade: setuptools>=18.0 in /usr/local/lib/python3.6/dist-packages (from pycocotools==2.0) (46.1.3)\n",
            "Requirement already satisfied, skipping upgrade: cython>=0.27.3 in /usr/local/lib/python3.6/dist-packages (from pycocotools==2.0) (0.29.17)\n",
            "Requirement already satisfied, skipping upgrade: matplotlib>=2.1.0 in /usr/local/lib/python3.6/dist-packages (from pycocotools==2.0) (3.2.1)\n",
            "Requirement already satisfied, skipping upgrade: kiwisolver>=1.0.1 in /usr/local/lib/python3.6/dist-packages (from matplotlib>=2.1.0->pycocotools==2.0) (1.2.0)\n",
            "Requirement already satisfied, skipping upgrade: pyparsing!=2.0.4,!=2.1.2,!=2.1.6,>=2.0.1 in /usr/local/lib/python3.6/dist-packages (from matplotlib>=2.1.0->pycocotools==2.0) (2.4.7)\n",
            "Requirement already satisfied, skipping upgrade: numpy>=1.11 in /usr/local/lib/python3.6/dist-packages (from matplotlib>=2.1.0->pycocotools==2.0) (1.18.4)\n",
            "Requirement already satisfied, skipping upgrade: cycler>=0.10 in /usr/local/lib/python3.6/dist-packages (from matplotlib>=2.1.0->pycocotools==2.0) (0.10.0)\n",
            "Requirement already satisfied, skipping upgrade: python-dateutil>=2.1 in /usr/local/lib/python3.6/dist-packages (from matplotlib>=2.1.0->pycocotools==2.0) (2.8.1)\n",
            "Requirement already satisfied, skipping upgrade: six in /usr/local/lib/python3.6/dist-packages (from cycler>=0.10->matplotlib>=2.1.0->pycocotools==2.0) (1.12.0)\n",
            "Building wheels for collected packages: pycocotools\n",
            "  Building wheel for pycocotools (setup.py) ... \u001b[?25l\u001b[?25hdone\n",
            "  Created wheel for pycocotools: filename=pycocotools-2.0-cp36-cp36m-linux_x86_64.whl size=275256 sha256=fa7974e2903cd9faab8f41ec2d921e1a7ee448693f7c96c69e3aee53ec1a6b7b\n",
            "  Stored in directory: /tmp/pip-ephem-wheel-cache-thf5jvzm/wheels/90/51/41/646daf401c3bc408ff10de34ec76587a9b3ebfac8d21ca5c3a\n",
            "Successfully built pycocotools\n",
            "Installing collected packages: pycocotools\n",
            "  Found existing installation: pycocotools 2.0.0\n",
            "    Uninstalling pycocotools-2.0.0:\n",
            "      Successfully uninstalled pycocotools-2.0.0\n",
            "Successfully installed pycocotools-2.0\n",
            "1.5.0+cu101 True\n",
            "gcc (Ubuntu 7.5.0-3ubuntu1~18.04) 7.5.0\n",
            "Copyright (C) 2017 Free Software Foundation, Inc.\n",
            "This is free software; see the source for copying conditions.  There is NO\n",
            "warranty; not even for MERCHANTABILITY or FITNESS FOR A PARTICULAR PURPOSE.\n",
            "\n"
          ],
          "name": "stdout"
        }
      ]
    },
    {
      "cell_type": "code",
      "metadata": {
        "id": "b-i4hmGYk1dL",
        "colab_type": "code",
        "outputId": "ca1137a0-24cf-4053-8e38-3dea7031e4ae",
        "colab": {
          "base_uri": "https://localhost:8080/",
          "height": 989
        }
      },
      "source": [
        "# install detectron2:\n",
        "!pip install detectron2==0.1.2 -f https://dl.fbaipublicfiles.com/detectron2/wheels/cu101/index.html"
      ],
      "execution_count": 2,
      "outputs": [
        {
          "output_type": "stream",
          "text": [
            "Looking in links: https://dl.fbaipublicfiles.com/detectron2/wheels/cu101/index.html\n",
            "Collecting detectron2==0.1.2\n",
            "\u001b[?25l  Downloading https://dl.fbaipublicfiles.com/detectron2/wheels/cu101/detectron2-0.1.2%2Bcu101-cp36-cp36m-linux_x86_64.whl (6.2MB)\n",
            "\u001b[K     |████████████████████████████████| 6.2MB 703kB/s \n",
            "\u001b[?25hRequirement already satisfied: pydot in /usr/local/lib/python3.6/dist-packages (from detectron2==0.1.2) (1.3.0)\n",
            "Requirement already satisfied: cloudpickle in /usr/local/lib/python3.6/dist-packages (from detectron2==0.1.2) (1.3.0)\n",
            "Requirement already satisfied: tensorboard in /usr/local/lib/python3.6/dist-packages (from detectron2==0.1.2) (2.2.1)\n",
            "Requirement already satisfied: tabulate in /usr/local/lib/python3.6/dist-packages (from detectron2==0.1.2) (0.8.7)\n",
            "Requirement already satisfied: Pillow in /usr/local/lib/python3.6/dist-packages (from detectron2==0.1.2) (7.0.0)\n",
            "Collecting mock\n",
            "  Downloading https://files.pythonhosted.org/packages/cd/74/d72daf8dff5b6566db857cfd088907bb0355f5dd2914c4b3ef065c790735/mock-4.0.2-py3-none-any.whl\n",
            "Collecting fvcore\n",
            "  Downloading https://files.pythonhosted.org/packages/43/3a/50bb1e1b1acbf5e9b79f9f0c078cd3e9694e453a61cd0f07cc8dd1e1872f/fvcore-0.1.1.post200513.tar.gz\n",
            "Requirement already satisfied: future in /usr/local/lib/python3.6/dist-packages (from detectron2==0.1.2) (0.16.0)\n",
            "Collecting yacs>=0.1.6\n",
            "  Downloading https://files.pythonhosted.org/packages/81/3b/40e876afde9f5ffa1cfdce10565aba85b0dc2e067ed551dfb566cfee6d4d/yacs-0.1.7-py3-none-any.whl\n",
            "Requirement already satisfied: termcolor>=1.1 in /usr/local/lib/python3.6/dist-packages (from detectron2==0.1.2) (1.1.0)\n",
            "Requirement already satisfied: tqdm>4.29.0 in /usr/local/lib/python3.6/dist-packages (from detectron2==0.1.2) (4.41.1)\n",
            "Requirement already satisfied: matplotlib in /usr/local/lib/python3.6/dist-packages (from detectron2==0.1.2) (3.2.1)\n",
            "Requirement already satisfied: pyparsing>=2.1.4 in /usr/local/lib/python3.6/dist-packages (from pydot->detectron2==0.1.2) (2.4.7)\n",
            "Requirement already satisfied: google-auth<2,>=1.6.3 in /usr/local/lib/python3.6/dist-packages (from tensorboard->detectron2==0.1.2) (1.7.2)\n",
            "Requirement already satisfied: markdown>=2.6.8 in /usr/local/lib/python3.6/dist-packages (from tensorboard->detectron2==0.1.2) (3.2.1)\n",
            "Requirement already satisfied: wheel>=0.26; python_version >= \"3\" in /usr/local/lib/python3.6/dist-packages (from tensorboard->detectron2==0.1.2) (0.34.2)\n",
            "Requirement already satisfied: absl-py>=0.4 in /usr/local/lib/python3.6/dist-packages (from tensorboard->detectron2==0.1.2) (0.9.0)\n",
            "Requirement already satisfied: setuptools>=41.0.0 in /usr/local/lib/python3.6/dist-packages (from tensorboard->detectron2==0.1.2) (46.1.3)\n",
            "Requirement already satisfied: werkzeug>=0.11.15 in /usr/local/lib/python3.6/dist-packages (from tensorboard->detectron2==0.1.2) (1.0.1)\n",
            "Requirement already satisfied: requests<3,>=2.21.0 in /usr/local/lib/python3.6/dist-packages (from tensorboard->detectron2==0.1.2) (2.23.0)\n",
            "Requirement already satisfied: google-auth-oauthlib<0.5,>=0.4.1 in /usr/local/lib/python3.6/dist-packages (from tensorboard->detectron2==0.1.2) (0.4.1)\n",
            "Requirement already satisfied: tensorboard-plugin-wit>=1.6.0 in /usr/local/lib/python3.6/dist-packages (from tensorboard->detectron2==0.1.2) (1.6.0.post3)\n",
            "Requirement already satisfied: grpcio>=1.24.3 in /usr/local/lib/python3.6/dist-packages (from tensorboard->detectron2==0.1.2) (1.28.1)\n",
            "Requirement already satisfied: six>=1.10.0 in /usr/local/lib/python3.6/dist-packages (from tensorboard->detectron2==0.1.2) (1.12.0)\n",
            "Requirement already satisfied: protobuf>=3.6.0 in /usr/local/lib/python3.6/dist-packages (from tensorboard->detectron2==0.1.2) (3.10.0)\n",
            "Requirement already satisfied: numpy>=1.12.0 in /usr/local/lib/python3.6/dist-packages (from tensorboard->detectron2==0.1.2) (1.18.4)\n",
            "Requirement already satisfied: pyyaml>=5.1 in /usr/local/lib/python3.6/dist-packages (from fvcore->detectron2==0.1.2) (5.1)\n",
            "Collecting portalocker\n",
            "  Downloading https://files.pythonhosted.org/packages/53/84/7b3146ec6378d28abc73ab484f09f47dfa008ad6f03f33d90a369f880e25/portalocker-1.7.0-py2.py3-none-any.whl\n",
            "Requirement already satisfied: kiwisolver>=1.0.1 in /usr/local/lib/python3.6/dist-packages (from matplotlib->detectron2==0.1.2) (1.2.0)\n",
            "Requirement already satisfied: cycler>=0.10 in /usr/local/lib/python3.6/dist-packages (from matplotlib->detectron2==0.1.2) (0.10.0)\n",
            "Requirement already satisfied: python-dateutil>=2.1 in /usr/local/lib/python3.6/dist-packages (from matplotlib->detectron2==0.1.2) (2.8.1)\n",
            "Requirement already satisfied: rsa<4.1,>=3.1.4 in /usr/local/lib/python3.6/dist-packages (from google-auth<2,>=1.6.3->tensorboard->detectron2==0.1.2) (4.0)\n",
            "Requirement already satisfied: cachetools<3.2,>=2.0.0 in /usr/local/lib/python3.6/dist-packages (from google-auth<2,>=1.6.3->tensorboard->detectron2==0.1.2) (3.1.1)\n",
            "Requirement already satisfied: pyasn1-modules>=0.2.1 in /usr/local/lib/python3.6/dist-packages (from google-auth<2,>=1.6.3->tensorboard->detectron2==0.1.2) (0.2.8)\n",
            "Requirement already satisfied: chardet<4,>=3.0.2 in /usr/local/lib/python3.6/dist-packages (from requests<3,>=2.21.0->tensorboard->detectron2==0.1.2) (3.0.4)\n",
            "Requirement already satisfied: idna<3,>=2.5 in /usr/local/lib/python3.6/dist-packages (from requests<3,>=2.21.0->tensorboard->detectron2==0.1.2) (2.9)\n",
            "Requirement already satisfied: urllib3!=1.25.0,!=1.25.1,<1.26,>=1.21.1 in /usr/local/lib/python3.6/dist-packages (from requests<3,>=2.21.0->tensorboard->detectron2==0.1.2) (1.24.3)\n",
            "Requirement already satisfied: certifi>=2017.4.17 in /usr/local/lib/python3.6/dist-packages (from requests<3,>=2.21.0->tensorboard->detectron2==0.1.2) (2020.4.5.1)\n",
            "Requirement already satisfied: requests-oauthlib>=0.7.0 in /usr/local/lib/python3.6/dist-packages (from google-auth-oauthlib<0.5,>=0.4.1->tensorboard->detectron2==0.1.2) (1.3.0)\n",
            "Requirement already satisfied: pyasn1>=0.1.3 in /usr/local/lib/python3.6/dist-packages (from rsa<4.1,>=3.1.4->google-auth<2,>=1.6.3->tensorboard->detectron2==0.1.2) (0.4.8)\n",
            "Requirement already satisfied: oauthlib>=3.0.0 in /usr/local/lib/python3.6/dist-packages (from requests-oauthlib>=0.7.0->google-auth-oauthlib<0.5,>=0.4.1->tensorboard->detectron2==0.1.2) (3.1.0)\n",
            "Building wheels for collected packages: fvcore\n",
            "  Building wheel for fvcore (setup.py) ... \u001b[?25l\u001b[?25hdone\n",
            "  Created wheel for fvcore: filename=fvcore-0.1.1.post200513-cp36-none-any.whl size=40893 sha256=9c77b394b55288686e706edeb2c03351db84a691e30555cf4f0da1500112a2ff\n",
            "  Stored in directory: /root/.cache/pip/wheels/a2/f6/77/551770c4b8cd75e9335cd0acf59c08d60a8684048b19da6702\n",
            "Successfully built fvcore\n",
            "Installing collected packages: mock, yacs, portalocker, fvcore, detectron2\n",
            "Successfully installed detectron2-0.1.2+cu101 fvcore-0.1.1.post200513 mock-4.0.2 portalocker-1.7.0 yacs-0.1.7\n"
          ],
          "name": "stdout"
        }
      ]
    },
    {
      "cell_type": "markdown",
      "metadata": {
        "id": "9m_1mb08Vmbr",
        "colab_type": "text"
      },
      "source": [
        "# Install common libraries and utilities\n"
      ]
    },
    {
      "cell_type": "code",
      "metadata": {
        "id": "ZyAvNCJMmvFF",
        "colab_type": "code",
        "colab": {}
      },
      "source": [
        "# You may need to restart your runtime prior to this, to let your installation take effect\n",
        "# Some basic setup:\n",
        "# Setup detectron2 logger\n",
        "import detectron2\n",
        "from detectron2.utils.logger import setup_logger\n",
        "setup_logger()\n",
        "\n",
        "# import some common libraries\n",
        "import numpy as np\n",
        "import cv2\n",
        "import random\n",
        "from google.colab.patches import cv2_imshow\n",
        "\n",
        "# import some common detectron2 utilities\n",
        "from detectron2 import model_zoo\n",
        "from detectron2.engine import DefaultPredictor\n",
        "from detectron2.config import get_cfg\n",
        "from detectron2.utils.visualizer import Visualizer\n",
        "from detectron2.data import MetadataCatalog\n"
      ],
      "execution_count": 0,
      "outputs": []
    },
    {
      "cell_type": "code",
      "metadata": {
        "id": "DhrmTbUfRYwA",
        "colab_type": "code",
        "outputId": "8437a266-d228-4836-e516-ab89c41e5c53",
        "colab": {
          "base_uri": "https://localhost:8080/",
          "height": 112
        }
      },
      "source": [
        "#!gdown https://drive.google.com/open?id=1CPhAlWM2DUSl4fI51jaxGYyjKwmyYpoC\n",
        "!gdown https://drive.google.com/uc?id=1CPhAlWM2DUSl4fI51jaxGYyjKwmyYpoC\n",
        "!ls\n",
        "\n",
        "!unzip -q /content/soccer.zip\n",
        "!rm /content/soccer.zip\n",
        "!mkdir '/content/output/'\n",
        "#!mv soccer_zip/ output/soccer.zip"
      ],
      "execution_count": 0,
      "outputs": [
        {
          "output_type": "stream",
          "text": [
            "Downloading...\n",
            "From: https://drive.google.com/uc?id=1CPhAlWM2DUSl4fI51jaxGYyjKwmyYpoC\n",
            "To: /content/soccer.zip\n",
            "1.60GB [00:18, 87.1MB/s]\n"
          ],
          "name": "stdout"
        }
      ]
    },
    {
      "cell_type": "code",
      "metadata": {
        "id": "hiE8GITBe9Rm",
        "colab_type": "code",
        "colab": {}
      },
      "source": [
        "!ls"
      ],
      "execution_count": 0,
      "outputs": []
    },
    {
      "cell_type": "markdown",
      "metadata": {
        "id": "Vk4gID50K03a",
        "colab_type": "text"
      },
      "source": [
        "# Run a pre-trained detectron2 model"
      ]
    },
    {
      "cell_type": "markdown",
      "metadata": {
        "id": "PZ4kHthmmWZx",
        "colab_type": "text"
      },
      "source": [
        "**List folders**"
      ]
    },
    {
      "cell_type": "code",
      "metadata": {
        "id": "GlTgDsPMkCH6",
        "colab_type": "code",
        "colab": {}
      },
      "source": [
        "!ls /content/\n",
        "#!ls /content/sample_data\n",
        "!ls /content/soccer/"
      ],
      "execution_count": 0,
      "outputs": []
    },
    {
      "cell_type": "markdown",
      "metadata": {
        "id": "JgKyUL4pngvE",
        "colab_type": "text"
      },
      "source": [
        "\n",
        "\n",
        "```\n",
        "# This is formatted as code\n",
        "```\n",
        "\n",
        "# **Load a soccer image**\n"
      ]
    },
    {
      "cell_type": "code",
      "metadata": {
        "id": "dq9GY37ml1kr",
        "colab_type": "code",
        "colab": {}
      },
      "source": [
        "im = cv2.imread(\"/content/soccer/img1202.png\")\n",
        "cv2_imshow(im)"
      ],
      "execution_count": 0,
      "outputs": []
    },
    {
      "cell_type": "markdown",
      "metadata": {
        "id": "uM1thbN-ntjI",
        "colab_type": "text"
      },
      "source": [
        "# Create a detectron2 config and a detectron2 `DefaultPredictor` to run inference on this image."
      ]
    },
    {
      "cell_type": "code",
      "metadata": {
        "id": "HUjkwRsOn1O0",
        "colab_type": "code",
        "colab": {}
      },
      "source": [
        "cfg = get_cfg()\n",
        "# add project-specific config (e.g., TensorMask) here if you're not running a model in detectron2's core library\n",
        "cfg.merge_from_file(model_zoo.get_config_file(\"COCO-InstanceSegmentation/mask_rcnn_R_50_FPN_3x.yaml\"))\n",
        "cfg.MODEL.ROI_HEADS.SCORE_THRESH_TEST = 0.5  # set threshold for this model\n",
        "# Find a model from detectron2's model zoo. You can use the https://dl.fbaipublicfiles... url as well\n",
        "cfg.MODEL.WEIGHTS = model_zoo.get_checkpoint_url(\"COCO-InstanceSegmentation/mask_rcnn_R_50_FPN_3x.yaml\")\n",
        "predictor = DefaultPredictor(cfg)\n",
        "outputs = predictor(im)"
      ],
      "execution_count": 0,
      "outputs": []
    },
    {
      "cell_type": "markdown",
      "metadata": {
        "id": "rx6RSRgzbSxc",
        "colab_type": "text"
      },
      "source": [
        "# Look at the outputs"
      ]
    },
    {
      "cell_type": "code",
      "metadata": {
        "id": "7d3KxiHO_0gb",
        "colab_type": "code",
        "colab": {}
      },
      "source": [
        "# look at the outputs. See https://detectron2.readthedocs.io/tutorials/models.html#model-output-format for specification\n",
        "outputs[\"instances\"].pred_classes\n",
        "outputs[\"instances\"].pred_boxes"
      ],
      "execution_count": 0,
      "outputs": []
    },
    {
      "cell_type": "markdown",
      "metadata": {
        "id": "qeNZjf7NZ6Ee",
        "colab_type": "text"
      },
      "source": [
        "# Use `Visualizer` to draw the predictions on the image."
      ]
    },
    {
      "cell_type": "code",
      "metadata": {
        "id": "8IRGo8d0qkgR",
        "colab_type": "code",
        "colab": {}
      },
      "source": [
        "# We can use `Visualizer` to draw the predictions on the image.\n",
        "v = Visualizer(im[:, :, ::-1], MetadataCatalog.get(cfg.DATASETS.TRAIN[0]), scale=1.2)\n",
        "v = v.draw_instance_predictions(outputs[\"instances\"].to(\"cpu\"))\n",
        "cv2_imshow(v.get_image()[:, :, ::-1])"
      ],
      "execution_count": 0,
      "outputs": []
    },
    {
      "cell_type": "markdown",
      "metadata": {
        "id": "VWy8Po9razMy",
        "colab_type": "text"
      },
      "source": [
        "# Create masks, classes and boxes and save output"
      ]
    },
    {
      "cell_type": "code",
      "metadata": {
        "id": "M9h3H9tMhQ2n",
        "colab_type": "code",
        "colab": {}
      },
      "source": [
        "import matplotlib as mpl\n",
        "import matplotlib.pyplot as plt\n",
        "import numpy as np\n",
        "from detectron2.structures import BitMasks, Boxes, BoxMode, PolygonMasks\n",
        "\n",
        "masks = np.asarray(outputs[\"instances\"].pred_masks.cpu())\n",
        "classes = outputs[\"instances\"].pred_classes.cpu()\n",
        "boxes = outputs[\"instances\"].pred_boxes.to(torch.device(\"cpu\"))\n",
        "count = 0\n",
        "for m in masks:\n",
        " b=boxes[count].tensor.numpy()[0]\n",
        " print(b)\n",
        " x = b[2]\n",
        " print(x)\n",
        " xi = int(x)\n",
        " print(xi)\n",
        " print(\"class:\")\n",
        " print(classes[2].numpy())\n",
        " print(\"after\")\n",
        " if isinstance(m, dict):\n",
        "  print(\"dict\")\n",
        " if isinstance(m, list):\n",
        "  print(\"list\")\n",
        " if isinstance(m, np.ndarray):\n",
        "  print(\"ndarray\")\n",
        "  print(m.dtype)\n",
        "  assert m.shape[1] != 2, m.shape\n",
        "  print(m.shape)\n",
        "  m=m*1\n",
        "  _mask = m.astype(np.uint8)\n",
        "  print(_mask[0][0])\n",
        "  plt.imshow(_mask)\n",
        "  plt.show()\n",
        "  print(_mask.dtype)\n",
        "  print(_mask)\n",
        "  print(_mask.shape)\n",
        "  img = v.get_image()\n",
        "  print(img.shape)\n",
        "  im_alpha = cv2.cvtColor(im,cv2.COLOR_BGR2BGRA)\n",
        "  new_img = cv2.bitwise_and(im_alpha, im_alpha, mask=_mask)\n",
        "  print(new_img.shape)\n",
        "  color = ('b','g','r')\n",
        "\n",
        "  cv2.imwrite('/content/output/new_img' + str(count) + '.png',new_img)\n",
        "  crop_img = new_img[int(b[1]):int(b[3]), int(b[0]):int(b[2])]\n",
        "\n",
        "  if not  cv2.imwrite('/content/output/crop_img_tp' + str(count) + '.png',crop_img):\n",
        "     raise Exception(\"Could not write image\")\n",
        "  plt.imshow(crop_img)\n",
        "  plt.show()\n",
        "  count += 1"
      ],
      "execution_count": 0,
      "outputs": []
    },
    {
      "cell_type": "markdown",
      "metadata": {
        "id": "cA6TlhKmbYh2",
        "colab_type": "text"
      },
      "source": [
        "# Dominant Colors class"
      ]
    },
    {
      "cell_type": "code",
      "metadata": {
        "id": "4nmUrTQHjlhX",
        "colab_type": "code",
        "colab": {}
      },
      "source": [
        "class DominantColors:\n",
        "\n",
        "    CLUSTERS = None\n",
        "    IMAGE = None\n",
        "    FLAT_IMAGE = None\n",
        "    COLORS = None\n",
        "    LABELS = None\n",
        "   \n",
        "    def __init__(self, image, clusters=3):\n",
        "        self.CLUSTERS = clusters\n",
        "        self.IMAGE = image\n",
        "   \n",
        "    def dominantColors(self):\n",
        "\n",
        "        img = self.IMAGE\n",
        "               \n",
        "        #reshaping to a list of pixels\n",
        "        img = img.reshape((img.shape[0] * img.shape[1], 4))\n",
        "       \n",
        "        #save image after operations\n",
        "        self.FLAT_IMAGE = img\n",
        "       \n",
        "        #using k-means to cluster pixels\n",
        "        kmeans = KMeans(n_clusters = self.CLUSTERS)\n",
        "        kmeans.fit(img)\n",
        "       \n",
        "        #getting the colors as per dominance order\n",
        "        self.COLORS = kmeans.cluster_centers_\n",
        "       \n",
        "        #save labels\n",
        "        self.LABELS = kmeans.labels_\n",
        "       \n",
        "        return self.COLORS.astype(int)\n",
        "               \n",
        "    def plotHistogram(self):\n",
        "       \n",
        "        #labels form 0 to no. of clusters\n",
        "        numLabels = np.arange(0, self.CLUSTERS+1)\n",
        "       \n",
        "        #create frequency count tables    \n",
        "        (hist, _) = np.histogram(self.LABELS, bins = numLabels)\n",
        "        hist = hist.astype(\"float\")\n",
        "        hist /= hist.sum()\n",
        "       \n",
        "        #appending frequencies to cluster centers\n",
        "        colors = self.COLORS\n",
        "       \n",
        "        #descending order sorting as per frequency count\n",
        "        colors = colors[(-hist).argsort()]\n",
        "        hist = hist[(-hist).argsort()]\n",
        "       \n",
        "        #creating empty chart\n",
        "        chart = np.zeros((50, 500, 3), np.uint8)\n",
        "        start = 0\n",
        "       \n",
        "        #creating color rectangles\n",
        "        for i in range(self.CLUSTERS):\n",
        "          if colors[i][3] > 1:\n",
        "            end = start + hist[i] * 500\n",
        "           \n",
        "            #getting rgb values\n",
        "            r = colors[i][0]\n",
        "            g = colors[i][1]\n",
        "            b = colors[i][2]\n",
        "           \n",
        "            #using cv2.rectangle to plot colors\n",
        "            cv2.rectangle(chart, (int(start), 0), (int(end), 50), (r,g,b), -1)\n",
        "            start = end\n",
        "       \n",
        "        #display chart\n",
        "        plt.figure()\n",
        "        plt.axis(\"off\")\n",
        "        plt.imshow(chart)\n",
        "        plt.show()\n",
        "       \n",
        "    def rgb_to_hex(self, rgb):\n",
        "        return '#%02x%02x%02x' % (int(rgb[0]), int(rgb[1]), int(rgb[2]))\n",
        "   \n",
        "    def plotClusters(self):\n",
        "        #plotting\n",
        "        fig = plt.figure()\n",
        "        ax = Axes3D(fig)        \n",
        "        for label, pix in zip(self.LABELS, self.FLAT_IMAGE):\n",
        "            ax.scatter(pix[0], pix[1], pix[2], color = self.rgb_to_hex(self.COLORS[label]))\n",
        "        plt.show()\n",
        "       \n",
        "    def colorPixels(self):\n",
        "       \n",
        "        shape = self.IMAGE.shape\n",
        "       \n",
        "        img = np.zeros((shape[0] * shape[1], 4))\n",
        "        labels = self.LABELS\n",
        "\n",
        "        for i,color in enumerate(self.COLORS):\n",
        "           \n",
        "            indices = np.where(labels==i)[0]\n",
        "           \n",
        "            for index in indices:\n",
        "                img[index] = color\n",
        "       \n",
        "        img = img.reshape((shape[0], shape[1], 4)).astype(int)\n",
        "       \n",
        "        #display img\n",
        "        plt.figure()\n",
        "        plt.axis(\"off\")\n",
        "        plt.imshow(img)\n",
        "        plt.show()\n",
        "\n",
        "\n",
        "import cv2\n",
        "import numpy as np\n",
        "from sklearn.cluster import KMeans\n",
        "import matplotlib.pyplot as plt\n",
        "from mpl_toolkits.mplot3d import Axes3D\n",
        "import numpy as np\n",
        "\n",
        "from numpy.testing import rundocs\n",
        "\n",
        "for i in range(13):\n",
        "    print(i)\n",
        "    img = ('/content/output/crop_img_tp' + str(i) + '.png')\n",
        "    img = cv2.imread(img, cv2.IMREAD_UNCHANGED)\n",
        "\n",
        "    #convert to RGB from BGR\n",
        "    img = cv2.cvtColor(img, cv2.COLOR_BGRA2RGBA)\n",
        "\n",
        "    #no. of clusters\n",
        "    clusters = 5\n",
        "\n",
        "    #initialize using constructor\n",
        "    dc = DominantColors(img, clusters)\n",
        "\n",
        "    #print dominant colors\n",
        "    colors = dc.dominantColors()\n",
        "    print(colors)\n",
        "\n",
        "    #display clustered points\n",
        "    dc.plotClusters()\n",
        "\n",
        "    #display dominance order\n",
        "    colors = dc.plotHistogram()\n",
        "    print(colors)"
      ],
      "execution_count": 0,
      "outputs": []
    },
    {
      "cell_type": "markdown",
      "metadata": {
        "id": "mrO8q8cSaq6X",
        "colab_type": "text"
      },
      "source": [
        "# Check output directory"
      ]
    },
    {
      "cell_type": "code",
      "metadata": {
        "id": "pSaQJ7qskOT1",
        "colab_type": "code",
        "colab": {}
      },
      "source": [
        "!ls output"
      ],
      "execution_count": 0,
      "outputs": []
    },
    {
      "cell_type": "code",
      "metadata": {
        "id": "m_1emRqbhAgV",
        "colab_type": "code",
        "colab": {}
      },
      "source": [
        ""
      ],
      "execution_count": 0,
      "outputs": []
    }
  ]
}